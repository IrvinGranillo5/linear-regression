{
 "cells": [
  {
   "cell_type": "markdown",
   "id": "07f1e64d-53dc-4f08-946d-4032554d929c",
   "metadata": {},
   "source": [
    "# Varianza: Medida de dispersión\n",
    "\n",
    "La **varianza** es una medida estadística que indica cuánto se dispersan los datos respecto a su media. Es fundamental para entender la variabilidad en conjuntos de datos, y sirve como base para otros conceptos como la desviación estándar y el análisis de regresión.\n",
    "\n",
    "En este notebook aprenderás:\n",
    "- Qué representa la varianza.\n",
    "- Cómo se calcula paso a paso.\n",
    "- Cómo interpretarla en contextos reales."
   ]
  },
  {
   "cell_type": "markdown",
   "id": "0adc7c21-9c03-4bdc-b38f-dc65f779d1b9",
   "metadata": {},
   "source": [
    "##  Fórmulas de la varianza\n",
    "\n",
    "La varianza se define como el promedio de los cuadrados de las diferencias entre cada dato y la media. Es una medida que indica qué tan dispersos están los datos respecto al valor central.\n",
    "\n",
    "### Varianza poblacional\n",
    "\n",
    "$$\\sigma^2 = \\frac{1}{N} \\sum_{i=1}^{N} (x_i - \\mu)^2$$\n",
    "\n",
    "###  Varianza muestral\n",
    "\n",
    "$$s^2 = \\frac{1}{n - 1} \\sum_{i=1}^{n} (x_i - \\bar{x})^2$$\n",
    "\n",
    "### Donde:\n",
    "\n",
    "- $( x_i )$: cada dato individual  \n",
    "- $( \\mu )$: media poblacional  \n",
    "- $( bar{x} )$: media muestral  \n",
    "- $( N )$: tamaño de la población  \n",
    "- $( n )$: tamaño de la muestra  \n",
    "- $( \\sigma^2 )$: varianza poblacional  \n",
    "- $( s^2 )$: varianza muestral\n",
    "\n",
    "> Al elevar las diferencias al cuadrado, evitamos que las desviaciones negativas se cancelen con las positivas, lo que permite medir la dispersión total de forma efectiva."
   ]
  },
  {
   "cell_type": "markdown",
   "id": "3c1b5098-25b7-4455-b798-a9622ffa6d46",
   "metadata": {},
   "source": [
    "## Datos\n",
    "\n",
    "Generamos 1000 evaluaciones para 4 grupos de alumnos con distintos perfiles de rendimiento:\n",
    "- **Grupo A**: alto y estable\n",
    "- **Grupo B**: medio con altibajos\n",
    "- **Grupo C**: bajo con mejoras graduales\n",
    "- **Grupo D**: variable con alta dispersión"
   ]
  },
  {
   "cell_type": "code",
   "execution_count": 1,
   "id": "7178bc8a-c61a-4aae-8e45-aa71a1cfcddb",
   "metadata": {},
   "outputs": [
    {
     "data": {
      "text/html": [
       "<div>\n",
       "<style scoped>\n",
       "    .dataframe tbody tr th:only-of-type {\n",
       "        vertical-align: middle;\n",
       "    }\n",
       "\n",
       "    .dataframe tbody tr th {\n",
       "        vertical-align: top;\n",
       "    }\n",
       "\n",
       "    .dataframe thead th {\n",
       "        text-align: right;\n",
       "    }\n",
       "</style>\n",
       "<table border=\"1\" class=\"dataframe\">\n",
       "  <thead>\n",
       "    <tr style=\"text-align: right;\">\n",
       "      <th></th>\n",
       "      <th>Grupo A</th>\n",
       "      <th>Grupo B</th>\n",
       "      <th>Grupo C</th>\n",
       "      <th>Grupo D</th>\n",
       "      <th>Evaluación</th>\n",
       "    </tr>\n",
       "  </thead>\n",
       "  <tbody>\n",
       "    <tr>\n",
       "      <th>0</th>\n",
       "      <td>89.3</td>\n",
       "      <td>68.3</td>\n",
       "      <td>64.7</td>\n",
       "      <td>57.7</td>\n",
       "      <td>1</td>\n",
       "    </tr>\n",
       "    <tr>\n",
       "      <th>1</th>\n",
       "      <td>92.8</td>\n",
       "      <td>77.3</td>\n",
       "      <td>55.4</td>\n",
       "      <td>64.9</td>\n",
       "      <td>2</td>\n",
       "    </tr>\n",
       "    <tr>\n",
       "      <th>2</th>\n",
       "      <td>89.6</td>\n",
       "      <td>78.6</td>\n",
       "      <td>56.6</td>\n",
       "      <td>67.7</td>\n",
       "      <td>3</td>\n",
       "    </tr>\n",
       "    <tr>\n",
       "      <th>3</th>\n",
       "      <td>90.2</td>\n",
       "      <td>80.4</td>\n",
       "      <td>56.4</td>\n",
       "      <td>81.3</td>\n",
       "      <td>4</td>\n",
       "    </tr>\n",
       "    <tr>\n",
       "      <th>4</th>\n",
       "      <td>87.2</td>\n",
       "      <td>74.6</td>\n",
       "      <td>61.3</td>\n",
       "      <td>66.9</td>\n",
       "      <td>5</td>\n",
       "    </tr>\n",
       "  </tbody>\n",
       "</table>\n",
       "</div>"
      ],
      "text/plain": [
       "   Grupo A  Grupo B  Grupo C  Grupo D  Evaluación\n",
       "0     89.3     68.3     64.7     57.7           1\n",
       "1     92.8     77.3     55.4     64.9           2\n",
       "2     89.6     78.6     56.6     67.7           3\n",
       "3     90.2     80.4     56.4     81.3           4\n",
       "4     87.2     74.6     61.3     66.9           5"
      ]
     },
     "execution_count": 1,
     "metadata": {},
     "output_type": "execute_result"
    }
   ],
   "source": [
    "import numpy as np\n",
    "import pandas as pd\n",
    "\n",
    "# Simulación de datos\n",
    "np.random.seed(837)\n",
    "n = 1000\n",
    "\n",
    "grupo_A = 90 + 5 * np.sin(np.linspace(0, 4 * np.pi, n)) + np.random.normal(0, 3, n)\n",
    "grupo_B = 75 + 10 * np.sin(np.linspace(0, 4 * np.pi, n)) + np.random.normal(0, 5, n)\n",
    "grupo_C = 60 + 8 * np.sin(np.linspace(0, 4 * np.pi, n)) + np.random.normal(0, 4, n)\n",
    "grupo_D = 70 + 15 * np.sin(np.linspace(0, 4 * np.pi, n)) + np.random.normal(0, 7, n)\n",
    "\n",
    "df = pd.DataFrame({\n",
    "    \"Grupo A\": np.round(grupo_A, 1),\n",
    "    \"Grupo B\": np.round(grupo_B, 1),\n",
    "    \"Grupo C\": np.round(grupo_C, 1),\n",
    "    \"Grupo D\": np.round(grupo_D, 1),\n",
    "    \"Evaluación\": np.arange(1, n + 1)\n",
    "})\n",
    "\n",
    "df.head()"
   ]
  },
  {
   "cell_type": "markdown",
   "id": "f92d846c-f96d-446a-b8e5-463309426e17",
   "metadata": {},
   "source": [
    "##  Cálculo paso a paso \n",
    "\n",
    "Vamos a calcular la varianza muestral sin usar `.var()`, siguiendo la fórmula paso a paso:\n",
    "1. Calcular la media.\n",
    "2. Restar la media a cada dato.\n",
    "3. Elevar al cuadrado cada diferencia.\n",
    "4. Sumar todos los cuadrados.\n",
    "5. Dividir entre $( n - 1 )$."
   ]
  },
  {
   "cell_type": "markdown",
   "id": "5f4b6805-fb61-427c-8651-09bb46a9baf1",
   "metadata": {},
   "source": [
    "## Problema 1: Suma de cuadrados de desviaciones\n",
    "\n",
    "Calculamos $ (x_i - \\bar{x})^2 $ para el Grupo A, y sumamos los resultados."
   ]
  },
  {
   "cell_type": "code",
   "execution_count": 3,
   "id": "332199ee-379c-47c7-8ff8-6f2a23a3a56d",
   "metadata": {},
   "outputs": [
    {
     "name": "stdout",
     "output_type": "stream",
     "text": [
      "Suma de cuadrados de desviaciones: 21459.56\n"
     ]
    }
   ],
   "source": [
    "dev_A = grupo_A - np.mean(grupo_A)\n",
    "diferencias_cuadradas = dev_A ** 2\n",
    "suma_cuadrados = np.sum(diferencias_cuadradas)\n",
    "\n",
    "print(f\"Suma de cuadrados de desviaciones: {suma_cuadrados:.2f}\")"
   ]
  },
  {
   "cell_type": "markdown",
   "id": "8114d831-5066-4da6-8864-92386b995e01",
   "metadata": {},
   "source": [
    "## Problema 2: Varianza muestral\n",
    "\n",
    "Usamos la fórmula de muestra para calcular la varianza del Grupo A sin usar `.var()`."
   ]
  },
  {
   "cell_type": "code",
   "execution_count": 5,
   "id": "3b1c175f-e342-48cb-ad5a-ccdb7a1c17e8",
   "metadata": {},
   "outputs": [
    {
     "name": "stdout",
     "output_type": "stream",
     "text": [
      "Varianza muestral A: 21.48\n"
     ]
    }
   ],
   "source": [
    "var_A = suma_cuadrados / (n - 1)\n",
    "print(f\"Varianza muestral A: {var_A:.2f}\")"
   ]
  },
  {
   "cell_type": "markdown",
   "id": "c2a7f9e2-a378-45b0-aceb-a5c3bb6c3353",
   "metadata": {},
   "source": [
    "## Problema 3: Función generalizada\n",
    "\n",
    "Creamos una función que calcula varianza para muestra o población, y la aplicamos a los grupos A y B."
   ]
  },
  {
   "cell_type": "code",
   "execution_count": 7,
   "id": "805a2ee3-fa28-40b2-8bd1-2404974ce67f",
   "metadata": {},
   "outputs": [
    {
     "name": "stdout",
     "output_type": "stream",
     "text": [
      "Varianza muestral A: 21.48\n",
      "Varianza poblacional A: 21.46\n",
      "Varianza muestral B: 76.70\n",
      "Varianza poblacional B: 76.63\n"
     ]
    }
   ],
   "source": [
    "def varianza(x, poblacional=False):\n",
    "    x_mean = np.mean(x)\n",
    "    diferencias_cuadradas = (x - x_mean) ** 2\n",
    "    divisor = len(x) if poblacional else (len(x) - 1)\n",
    "    return np.sum(diferencias_cuadradas) / divisor\n",
    "\n",
    "var_m_A = varianza(grupo_A)\n",
    "var_p_A = varianza(grupo_A, poblacional=True)\n",
    "var_m_B = varianza(grupo_B)\n",
    "var_p_B = varianza(grupo_B, poblacional=True)\n",
    "\n",
    "print(f\"Varianza muestral A: {var_m_A:.2f}\")\n",
    "print(f\"Varianza poblacional A: {var_p_A:.2f}\")\n",
    "print(f\"Varianza muestral B: {var_m_B:.2f}\")\n",
    "print(f\"Varianza poblacional B: {var_p_B:.2f}\")"
   ]
  },
  {
   "cell_type": "markdown",
   "id": "9029ea9d-4f8d-4717-87e9-6941dc8be218",
   "metadata": {},
   "source": [
    "## Visualización\n",
    "\n",
    "Creamos un histograma para el Grupo A para observar la dispersión visualmente."
   ]
  },
  {
   "cell_type": "code",
   "execution_count": 10,
   "id": "95cef276-5cac-4d7e-b469-fd00810e9e24",
   "metadata": {},
   "outputs": [
    {
     "data": {
      "image/png": "[encoded data removed]",
      "text/plain": [
       "<Figure size 800x600 with 1 Axes>"
      ]
     },
     "metadata": {},
     "output_type": "display_data"
    }
   ],
   "source": [
    "import matplotlib.pyplot as plt\n",
    "\n",
    "plt.figure(figsize=(8, 6))\n",
    "plt.hist(grupo_A, bins=30, color='darkblue', edgecolor='black', alpha=0.7)\n",
    "plt.axvline(np.mean(grupo_A), color='red', linestyle='--', label=f\"Media: {np.mean(grupo_A):.2f}\")\n",
    "plt.title(\"Distribución del Grupo A\")\n",
    "plt.xlabel(\"Puntos\")\n",
    "plt.ylabel(\"Frecuencia\")\n",
    "plt.legend()\n",
    "plt.grid(True)\n",
    "plt.tight_layout()\n",
    "plt.show()"
   ]
  },
  {
   "cell_type": "markdown",
   "id": "d31be360-b3dc-480f-93f3-7a3c08efcd43",
   "metadata": {},
   "source": [
    " # Interpretación de la varianza\n",
    "\n",
    "La varianza obtenida nos indica cuánta variabilidad hay en las calificaciones del grupo. Una varianza alta sugiere que los alumnos tienen rendimientos muy distintos entre sí. Una varianza baja indica que la mayoría se desempeña de forma similar.\n",
    "\n",
    "> Recuerda: la varianza se mide en unidades **al cuadrado**, por lo que no es directamente interpretable como las calificaciones. Para eso usamos la desviación estándar que veremos en otro tema."
   ]
  },
  {
   "cell_type": "code",
   "execution_count": null,
   "id": "5e0bb60f-2b06-43cb-8824-30e2f6f7106d",
   "metadata": {},
   "outputs": [],
   "source": []
  }
 ],
 "metadata": {
  "kernelspec": {
   "display_name": "Python 3 (ipykernel)",
   "language": "python",
   "name": "python3"
  },
  "language_info": {
   "codemirror_mode": {
    "name": "ipython",
    "version": 3
   },
   "file_extension": ".py",
   "mimetype": "text/x-python",
   "name": "python",
   "nbconvert_exporter": "python",
   "pygments_lexer": "ipython3",
   "version": "3.11.6"
  }
 },
 "nbformat": 4,
 "nbformat_minor": 5
}
