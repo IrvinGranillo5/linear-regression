{
 "cells": [
  {
   "cell_type": "markdown",
   "id": "07f1e64d-53dc-4f08-946d-4032554d929c",
   "metadata": {},
   "source": [
    "# Varianza: Medida de dispersión\n",
    "\n",
    "La **varianza** es una medida estadística que indica cuánto se dispersan los datos respecto a su media. Es fundamental para entender la variabilidad en conjuntos de datos, y sirve como base para otros conceptos como la desviación estándar y el análisis de regresión.\n",
    "\n",
    "En este notebook aprenderás:\n",
    "- Qué representa la varianza.\n",
    "- Cómo se calcula paso a paso.\n",
    "- Cómo interpretarla en contextos reales."
   ]
  },
  {
   "cell_type": "markdown",
   "id": "0adc7c21-9c03-4bdc-b38f-dc65f779d1b9",
   "metadata": {},
   "source": [
    "##  Fórmula de la varianza muestral\n",
    "\n",
    "La varianza se define como el promedio de los cuadrados de las diferencias entre cada dato y la media:\n",
    "\n",
    "$$s^2 = \\frac{1}{n - 1} \\sum_{i=1}^{n} (x_i - \\bar{x})^2$$\n",
    "\n",
    "### 📌 Donde:\n",
    "- \\( x_i \\): cada dato individual.\n",
    "- \\( \\bar{x} \\): media muestral.\n",
    "- \\( n \\): número total de observaciones.\n",
    "- \\( s^2 \\): varianza muestral.\n",
    "\n",
    "> Al elevar las diferencias al cuadrado, evitamos que las desviaciones negativas se cancelen con las positivas."
   ]
  },
  {
   "cell_type": "code",
   "execution_count": 3,
   "id": "7178bc8a-c61a-4aae-8e45-aa71a1cfcddb",
   "metadata": {},
   "outputs": [
    {
     "data": {
      "text/html": [
       "<div>\n",
       "<style scoped>\n",
       "    .dataframe tbody tr th:only-of-type {\n",
       "        vertical-align: middle;\n",
       "    }\n",
       "\n",
       "    .dataframe tbody tr th {\n",
       "        vertical-align: top;\n",
       "    }\n",
       "\n",
       "    .dataframe thead th {\n",
       "        text-align: right;\n",
       "    }\n",
       "</style>\n",
       "<table border=\"1\" class=\"dataframe\">\n",
       "  <thead>\n",
       "    <tr style=\"text-align: right;\">\n",
       "      <th></th>\n",
       "      <th>Calificación</th>\n",
       "      <th>Evaluación</th>\n",
       "    </tr>\n",
       "  </thead>\n",
       "  <tbody>\n",
       "    <tr>\n",
       "      <th>0</th>\n",
       "      <td>86.0</td>\n",
       "      <td>1</td>\n",
       "    </tr>\n",
       "    <tr>\n",
       "      <th>1</th>\n",
       "      <td>85.8</td>\n",
       "      <td>2</td>\n",
       "    </tr>\n",
       "    <tr>\n",
       "      <th>2</th>\n",
       "      <td>84.5</td>\n",
       "      <td>3</td>\n",
       "    </tr>\n",
       "    <tr>\n",
       "      <th>3</th>\n",
       "      <td>85.0</td>\n",
       "      <td>4</td>\n",
       "    </tr>\n",
       "    <tr>\n",
       "      <th>4</th>\n",
       "      <td>87.3</td>\n",
       "      <td>5</td>\n",
       "    </tr>\n",
       "  </tbody>\n",
       "</table>\n",
       "</div>"
      ],
      "text/plain": [
       "   Calificación  Evaluación\n",
       "0          86.0           1\n",
       "1          85.8           2\n",
       "2          84.5           3\n",
       "3          85.0           4\n",
       "4          87.3           5"
      ]
     },
     "execution_count": 3,
     "metadata": {},
     "output_type": "execute_result"
    }
   ],
   "source": [
    "import numpy as np\n",
    "import pandas as pd\n",
    "\n",
    "# Semilla para reproducibilidad\n",
    "np.random.seed(616)\n",
    "\n",
    "# Simulamos 1000 calificaciones para un grupo de alumnos\n",
    "n = 1000\n",
    "grupo = 85 + 7 * np.sin(np.linspace(0, 4 * np.pi, n)) + np.random.normal(0, 4, n)\n",
    "\n",
    "# Creamos DataFrame\n",
    "df = pd.DataFrame({\n",
    "    \"Calificación\": np.round(grupo, 1),\n",
    "    \"Evaluación\": np.arange(1, n + 1)\n",
    "})\n",
    "\n",
    "df.head()"
   ]
  },
  {
   "cell_type": "markdown",
   "id": "f92d846c-f96d-446a-b8e5-463309426e17",
   "metadata": {},
   "source": [
    "## 🧮 Cálculo manual de la varianza\n",
    "\n",
    "Vamos a calcular la varianza muestral sin usar `.var()`, siguiendo la fórmula paso a paso:\n",
    "1. Calcular la media.\n",
    "2. Restar la media a cada dato.\n",
    "3. Elevar al cuadrado cada diferencia.\n",
    "4. Sumar todos los cuadrados.\n",
    "5. Dividir entre \\( n - 1 \\)."
   ]
  },
  {
   "cell_type": "code",
   "execution_count": 4,
   "id": "0aa3c1df-5cec-4004-81b0-22fce64b1c0d",
   "metadata": {},
   "outputs": [
    {
     "name": "stdout",
     "output_type": "stream",
     "text": [
      "Media: 85.01\n",
      "Suma de cuadrados: 39861.66\n",
      "Varianza muestral: 39.90\n"
     ]
    }
   ],
   "source": [
    "# Paso 1: media\n",
    "media = np.mean(grupo)\n",
    "\n",
    "# Paso 2 y 3: diferencias al cuadrado\n",
    "diferencias_cuadradas = (grupo - media) ** 2\n",
    "\n",
    "# Paso 4: suma de cuadrados\n",
    "suma_cuadrados = np.sum(diferencias_cuadradas)\n",
    "\n",
    "# Paso 5: varianza muestral\n",
    "varianza = suma_cuadrados / (n - 1)\n",
    "\n",
    "print(f\"Media: {media:.2f}\")\n",
    "print(f\"Suma de cuadrados: {suma_cuadrados:.2f}\")\n",
    "print(f\"Varianza muestral: {varianza:.2f}\")"
   ]
  },
  {
   "cell_type": "markdown",
   "id": "d31be360-b3dc-480f-93f3-7a3c08efcd43",
   "metadata": {},
   "source": [
    "## 📊 Interpretación de la varianza\n",
    "\n",
    "La varianza obtenida nos indica cuánta variabilidad hay en las calificaciones del grupo. Una varianza alta sugiere que los alumnos tienen rendimientos muy distintos entre sí. Una varianza baja indica que la mayoría se desempeña de forma similar.\n",
    "\n",
    "> Recuerda: la varianza se mide en unidades **al cuadrado**, por lo que no es directamente interpretable como las calificaciones. Para eso usamos la desviación estándar."
   ]
  },
  {
   "cell_type": "code",
   "execution_count": null,
   "id": "5e0bb60f-2b06-43cb-8824-30e2f6f7106d",
   "metadata": {},
   "outputs": [],
   "source": []
  }
 ],
 "metadata": {
  "kernelspec": {
   "display_name": "Python [conda env:base] *",
   "language": "python",
   "name": "conda-base-py"
  },
  "language_info": {
   "codemirror_mode": {
    "name": "ipython",
    "version": 3
   },
   "file_extension": ".py",
   "mimetype": "text/x-python",
   "name": "python",
   "nbconvert_exporter": "python",
   "pygments_lexer": "ipython3",
   "version": "3.11.7"
  }
 },
 "nbformat": 4,
 "nbformat_minor": 5
}
