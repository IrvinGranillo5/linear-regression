{
 "cells": [
  {
   "cell_type": "markdown",
   "id": "87d7b634-1d9f-4812-af55-ec61b02797d7",
   "metadata": {
    "nbgrader": {
     "grade": false,
     "grade_id": "cell-5d41f91e83cd854f",
     "locked": true,
     "schema_version": 3,
     "solution": false,
     "task": false
    }
   },
   "source": [
    "# Quizz 2. Mínimos Cuadrados\n",
    "\n",
    "**Objetivo**.\n",
    "\n",
    "* Entender en qué consiste el ajuste de rectas por el método de mínimos cuadrados.\n",
    "* Realizar una implementación de las matemáticas requeridas en este método.\n",
    "* Probar la implementación con datos generados de manera sintética.\n",
    "\n",
    " <p xmlns:cc=\"http://creativecommons.org/ns#\" xmlns:dct=\"http://purl.org/dc/terms/\">Mínimos cuadrados by <a rel=\"cc:attributionURL dct:creator\" property=\"cc:attributionName\" href=\"https://www.macti.unam.mx\">Luis M. de la Cruz</a> is licensed under <a href=\"http://creativecommons.org/licenses/by-sa/4.0/?ref=chooser-v1\" target=\"_blank\" rel=\"license noopener noreferrer\" style=\"display:inline-block;\">Attribution-ShareAlike 4.0 International<img style=\"height:22px!important;margin-left:3px;vertical-align:text-bottom;\" src=\"https://mirrors.creativecommons.org/presskit/icons/cc.svg?ref=chooser-v1\"><img style=\"height:22px!important;margin-left:3px;vertical-align:text-bottom;\" src=\"https://mirrors.creativecommons.org/presskit/icons/by.svg?ref=chooser-v1\"><img style=\"height:22px!important;margin-left:3px;vertical-align:text-bottom;\" src=\"https://mirrors.creativecommons.org/presskit/icons/sa.svg?ref=chooser-v1\"></a></p> "
   ]
  },
  {
   "cell_type": "markdown",
   "id": "d17a0b36-2398-4802-a049-aa4ed2dc0c1a",
   "metadata": {
    "nbgrader": {
     "grade": false,
     "grade_id": "cell-552490fb09fadc5d",
     "locked": true,
     "schema_version": 3,
     "solution": false,
     "task": false
    }
   },
   "source": [
    "# Introducción.\n",
    "\n",
    "El **método de mínimos cuadrados** se utiliza para ajustar rectas a series de datos presentados en la forma $(x, y)$ como en la siguiente tabla:\n",
    "\n",
    "| $x_0$ | $x_1$ | $x_2$ | $\\dots$ | $x_N$ |\n",
    "|-----|-----|-----|---------|-----|\n",
    "| $y_0$ | $y_1$ | $y_2$ | $\\dots$ | $y_N$ |\n",
    "\n",
    "Este tipo de datos pueden provenir de diferentes fuentes como estudios geofísicos en campo, estudios experimentales en laboratorio, obtención de datos mediante encuestas, observación de fenómenos naturales, etc. La idea es estudiar como una variable depende de la otra.\n",
    "\n",
    "Una posibilidad es que la variación sea lineal es decir: $y = m x + b$.\n",
    "\n",
    "Sin embargo, en la mayoría de los casos no es posible obtener una recta exacta que pase por todos los puntos.\n",
    "\n",
    "Para ello, el método de mínimos cuadrados nos proporciona con una metodología para obtener la mejor recta que represente a todos los puntos del conjunto de datos. \n",
    "\n",
    "# Conjuntos de datos.\n",
    "\n",
    "Para esta actividad vamos a generar de manera sintética 4 conjuntos de datos. Usaremos la función `np.random.rand()` de numpy."
   ]
  },
  {
   "cell_type": "markdown",
   "id": "c69356e1-1b94-4cae-85c0-a301e5f90c7f",
   "metadata": {},
   "source": [
    "# Variables \n",
    "**b0** = "
   ]
  },
  {
   "cell_type": "code",
   "execution_count": 2,
   "id": "4106a738-63fb-474b-beac-60baae52bfaa",
   "metadata": {
    "nbgrader": {
     "grade": false,
     "grade_id": "cell-a521def2f4ff96fa",
     "locked": true,
     "schema_version": 3,
     "solution": false,
     "task": false
    }
   },
   "outputs": [],
   "source": [
    "import numpy as np\n",
    "import matplotlib.pyplot as plt\n",
    "##from macti.evaluation import *"
   ]
  },
  {
   "cell_type": "code",
   "execution_count": null,
   "id": "a780258f-bf63-436f-b7ad-378c4c0099c6",
   "metadata": {},
   "outputs": [],
   "source": [
    "#quizz = Quizz('q2', 'HeCompA')"
   ]
  },
  {
   "cell_type": "code",
   "execution_count": 4,
   "id": "f6ae1c20-c225-4db4-88e5-9d3ee3b6c53a",
   "metadata": {
    "nbgrader": {
     "grade": false,
     "grade_id": "cell-a223e663e2068da7",
     "locked": true,
     "schema_version": 3,
     "solution": false,
     "task": false
    }
   },
   "outputs": [],
   "source": [
    "# Total de datos de cada conjunto\n",
    "N = 20\n",
    "\n",
    "# Fijamos la semilla para obtener los mismos valores siempre\n",
    "np.random.seed(0)\n",
    "\n",
    "# Conjunto 0\n",
    "x0 = np.linspace(0,10,N) \n",
    "y0 = x0 + np.random.randn(N)*2\n",
    "\n",
    "# Conjunto 1\n",
    "x1 = np.random.randn(len(x0))*10\n",
    "y1 = np.random.randn(len(x0))*10\n",
    "\n",
    "# Conjunto 2\n",
    "x2 = np.arange(0,N)*100\n",
    "y2 = -x2 + np.random.randn(N)*500\n",
    "\n",
    "# Conjunto 3\n",
    "x3 = np.array([i for i in range(N)])\n",
    "y3 = np.random.rand(N)*0.5-0.5"
   ]
  },
  {
   "cell_type": "code",
   "execution_count": 8,
   "id": "f44176ea-2e1d-48db-a887-0465280e99ca",
   "metadata": {},
   "outputs": [
    {
     "name": "stdout",
     "output_type": "stream",
     "text": [
      "[ 0.          0.52631579  1.05263158  1.57894737  2.10526316  2.63157895\n",
      "  3.15789474  3.68421053  4.21052632  4.73684211  5.26315789  5.78947368\n",
      "  6.31578947  6.84210526  7.36842105  7.89473684  8.42105263  8.94736842\n",
      "  9.47368421 10.        ]\n"
     ]
    }
   ],
   "source": [
    "print(x0)"
   ]
  },
  {
   "cell_type": "code",
   "execution_count": 12,
   "id": "30b7b30a-a29b-4145-b1aa-c368ea6dfc63",
   "metadata": {
    "nbgrader": {
     "grade": false,
     "grade_id": "cell-d6aef7c7c85a73cc",
     "locked": true,
     "schema_version": 3,
     "solution": false,
     "task": false
    }
   },
   "outputs": [
    {
     "name": "stdout",
     "output_type": "stream",
     "text": [
      "\n",
      "Arreglo x0 :\n",
      "[ 0.          0.20408163  0.40816327  0.6122449   0.81632653  1.02040816\n",
      "  1.2244898   1.42857143  1.63265306  1.83673469  2.04081633  2.24489796\n",
      "  2.44897959  2.65306122  2.85714286  3.06122449  3.26530612  3.46938776\n",
      "  3.67346939  3.87755102  4.08163265  4.28571429  4.48979592  4.69387755\n",
      "  4.89795918  5.10204082  5.30612245  5.51020408  5.71428571  5.91836735\n",
      "  6.12244898  6.32653061  6.53061224  6.73469388  6.93877551  7.14285714\n",
      "  7.34693878  7.55102041  7.75510204  7.95918367  8.16326531  8.36734694\n",
      "  8.57142857  8.7755102   8.97959184  9.18367347  9.3877551   9.59183673\n",
      "  9.79591837 10.        ]\n",
      "Arreglo y0 :\n",
      "[ 3.52810469  1.00439605  2.36563923  5.0940313   4.55144251 -0.9341476\n",
      "  3.12466663  1.12585701  1.42621536  2.6579317   2.32890347  5.15344497\n",
      "  3.97105504  2.89641126  3.74486932  3.72857314  6.25346427  3.05907123\n",
      "  4.29960479  2.16935954 -1.02434698  5.59295148  6.21866832  3.20954751\n",
      "  9.43746843  2.19330947  5.39763948  5.13583638  8.77984414  8.85708489\n",
      "  6.43234383  7.08285565  4.75504075  2.77310094  6.24295121  7.45555508\n",
      "  9.80752014  9.95578011  6.98044841  7.35457817  6.06615938  5.52731106\n",
      "  5.15888819 12.67706099  7.96028747  8.30752487  6.88216438 11.14681745\n",
      "  6.56812267  9.57451944]\n",
      "\n",
      "Arreglo x1 :\n",
      "[ -8.95466561   3.86902498  -5.10805138 -11.80632184  -0.28182228\n",
      "   4.28331871   0.66517222   3.02471898  -6.34322094  -3.62741166\n",
      "  -6.72460448  -3.59553162  -8.13146282 -17.26282602   1.77426142\n",
      "  -4.01780936 -16.30198347   4.62782256  -9.07298364   0.51945396\n",
      "   7.29090562   1.28982911  11.39400685 -12.3482582    4.02341641\n",
      "  -6.84810091  -8.70797149  -5.78849665  -3.11552532   0.56165342\n",
      " -11.65149841   9.00826487   4.6566244  -15.36243686  14.88252194\n",
      "  18.95889176  11.78779571  -1.79924836 -10.70752622  10.54451727\n",
      "  -4.03176947  12.2244507    2.08274978   9.76639036   3.56366397\n",
      "   7.06573168   0.10500021  17.85870494   1.26912093   4.01989363]\n",
      "Arreglo y1 :\n",
      "[ 18.83150697 -13.47759061 -12.70484998   9.69396708 -11.73123405\n",
      "  19.43621186  -4.13618981  -7.47454811  19.22942026  14.80514791\n",
      "  18.6755896    9.06044658  -8.61225685  19.10064953  -2.68003371\n",
      "   8.02456396   9.47251968  -1.55010093   6.1407937    9.22206672\n",
      "   3.76425531 -10.99400791   2.98238174  13.26385897  -6.9456786\n",
      "  -1.4963454   -4.35153552  18.49263728   6.72294757   4.07461836\n",
      "  -7.69916074   5.39249191  -6.74332661   0.31830558  -6.35846078\n",
      "   6.76433295   5.76590817  -2.08298756   3.96006713 -10.93061509\n",
      " -14.91257593   4.39391701   1.66673495   6.35031437  23.83144775\n",
      "   9.44479487  -9.12822225  11.17016288 -13.15907411  -4.61584605]\n",
      "\n",
      "Arreglo x2 :\n",
      "[   0  100  200  300  400  500  600  700  800  900 1000 1100 1200 1300\n",
      " 1400 1500 1600 1700 1800 1900 2000 2100 2200 2300 2400 2500 2600 2700\n",
      " 2800 2900 3000 3100 3200 3300 3400 3500 3600 3700 3800 3900 4000 4100\n",
      " 4200 4300 4400 4500 4600 4700 4800 4900]\n",
      "Arreglo y2 :\n",
      "[  -34.12080266   756.67136082  -572.37741102  -713.21926933\n",
      "  -449.22626221  -831.73914318   -36.68203895 -1239.96575418\n",
      " -1373.73432621 -1118.91002237 -1249.01622535  -135.23397309\n",
      "  -725.28959654 -1256.22437931 -2012.71775942 -1077.8185118\n",
      " -2100.10767369 -2472.38554839 -1205.98510382 -1741.52869404\n",
      " -1539.57058811 -1940.63617353 -1771.58469405 -2625.51279665\n",
      " -2917.12142089 -2159.20274086 -3001.70483209 -3044.77488888\n",
      " -3027.76625176 -2891.26042049 -3176.99695563 -3787.47564671\n",
      " -3521.80920142 -4411.70157611 -3087.38427449 -4301.0288278\n",
      " -4152.19166971 -3673.91746037 -4169.7814982  -3128.4927023\n",
      " -4646.42845486 -3966.47456533 -4219.64140911 -4884.04674887\n",
      " -4138.36166973 -4585.77316561 -4214.10472439 -4288.24792302\n",
      " -3718.38202536 -4231.73602528]\n",
      "\n",
      "Arreglo x3 :\n",
      "[ 0  1  2  3  4  5  6  7  8  9 10 11 12 13 14 15 16 17 18 19 20 21 22 23\n",
      " 24 25 26 27 28 29 30 31 32 33 34 35 36 37 38 39 40 41 42 43 44 45 46 47\n",
      " 48 49]\n",
      "Arreglo y3 :\n",
      "[-0.01903181 -0.35392624 -0.37958561 -0.44985303 -0.49178519 -0.03523534\n",
      " -0.16504173 -0.10742354 -0.35913495 -0.20679492 -0.46802237 -0.2571862\n",
      " -0.01125243 -0.06174738 -0.33092052 -0.01921492 -0.38414919 -0.02534059\n",
      " -0.02931115 -0.10039871 -0.18477603 -0.06285602 -0.35348986 -0.07552822\n",
      " -0.19106165 -0.49338157 -0.32638324 -0.42592957 -0.00908531 -0.26081485\n",
      " -0.25130432 -0.18026374 -0.3157077  -0.43154986 -0.08894113 -0.40507604\n",
      " -0.24434051 -0.38784149 -0.45107776 -0.06890424 -0.01354026 -0.01958267\n",
      " -0.04672225 -0.11297633 -0.33342742 -0.45944931 -0.29637941 -0.38388293\n",
      " -0.43375618 -0.47328641]\n"
     ]
    }
   ],
   "source": [
    "print('\\nArreglo x0 :\\n{}'.format(x0))\n",
    "print('Arreglo y0 :\\n{}'.format(y0))\n",
    "\n",
    "print('\\nArreglo x1 :\\n{}'.format(x1))\n",
    "print('Arreglo y1 :\\n{}'.format(y1))\n",
    "\n",
    "print('\\nArreglo x2 :\\n{}'.format(x2))\n",
    "print('Arreglo y2 :\\n{}'.format(y2))\n",
    "\n",
    "print('\\nArreglo x3 :\\n{}'.format(x3))\n",
    "print('Arreglo y3 :\\n{}'.format(y3))"
   ]
  },
  {
   "cell_type": "markdown",
   "id": "bf736e41-06d4-49ef-8888-e7f8de1f113a",
   "metadata": {
    "nbgrader": {
     "grade": false,
     "grade_id": "cell-cc00f850ecece901",
     "locked": true,
     "schema_version": 3,
     "solution": false,
     "task": false
    }
   },
   "source": [
    "# Análisis exploratorio."
   ]
  },
  {
   "cell_type": "code",
   "execution_count": 13,
   "id": "fa8fc1c3-92a5-4545-8722-0980c2a190ff",
   "metadata": {},
   "outputs": [
    {
     "data": {
      "image/png": "[encoded data removed]",
      "text/plain": [
       "<Figure size 800x400 with 4 Axes>"
      ]
     },
     "metadata": {},
     "output_type": "display_data"
    }
   ],
   "source": [
    "plt.figure(figsize=(10,5))\n",
    "\n",
    "ax0 = plt.subplot(221)\n",
    "ax0.scatter(x0, y0, fc = 'C0', ec='k', alpha=0.75)\n",
    "ax0.set_xlabel('$x_0$')\n",
    "ax0.set_ylabel('$y_0$')\n",
    "ax0.grid()\n",
    "\n",
    "ax1 = plt.subplot(222)\n",
    "ax1.scatter(x1, y1, fc = 'C1', ec='k', alpha=0.75)\n",
    "ax1.set_xlabel('$x_1$')\n",
    "ax1.set_ylabel('$y_2$')\n",
    "ax1.grid()\n",
    "\n",
    "ax2 = plt.subplot(223)\n",
    "ax2.scatter(x2, y2, fc = 'C2', ec='k', alpha=0.75)\n",
    "ax2.set_xlabel('$x_2$')\n",
    "ax2.set_ylabel('$y_2$')\n",
    "ax2.grid()\n",
    "\n",
    "ax3 = plt.subplot(224)\n",
    "ax3.scatter(x3, y3, fc = 'C3', ec='dimgrey', alpha=0.75)\n",
    "ax3.set_xlabel('$x_3$')\n",
    "ax3.set_ylabel('$y_3$')\n",
    "ax3.set_ylim(-5,5)\n",
    "ax3.grid()\n",
    "\n",
    "plt.tight_layout()\n",
    "plt.show()"
   ]
  },
  {
   "cell_type": "markdown",
   "id": "9da050da-38e0-4ff0-8043-ef42f3c23858",
   "metadata": {
    "nbgrader": {
     "grade": false,
     "grade_id": "cell-dd7908195df8eea6",
     "locked": true,
     "schema_version": 3,
     "solution": false,
     "task": false
    }
   },
   "source": [
    "# Valores de $m$ y $b$ óptimos.\n",
    "\n",
    "Los valores de la pendiente y de la ordenada al origen de la recta que mejor aproxima a un conjunto de datos están dados por las siguientes fórmulas:\n",
    "\n",
    "$$\n",
    "m = \\dfrac{\\sum_{i=1}^{N} x_i(y_i - \\bar{y})}{\\sum_{i=1}^{N} x_i(x_i - \\bar{x})} \\tag{1}\n",
    "$$\n",
    "\n",
    "$$\n",
    "b = \\bar{y} - m \\bar{x} \\tag{2}\n",
    "$$\n",
    "\n",
    "donde $\\bar{y} = \\dfrac{1}{N}\\sum_{i=1}^{N} y_i$  y $\\bar{x} = \\dfrac{1}{N}\\sum_{i=1}^{N} x_i$ representan el valor medio de los datos.\n",
    "\n",
    "Podemos usar los conjuntos de datos definidos antes para calcular $m$ y $b$ y con ello obtener la recta que ajusta los datos. "
   ]
  },
  {
   "cell_type": "markdown",
   "id": "e6003448-2fc6-472e-b632-c55f48ea7565",
   "metadata": {
    "nbgrader": {
     "grade": false,
     "grade_id": "cell-2b07cfb597230e9d",
     "locked": true,
     "schema_version": 3,
     "solution": false,
     "task": false
    }
   },
   "source": [
    "<div class=\"alert alert-success\">\n",
    "\n",
    "## **Ejercicio 1.**\n",
    "\n",
    "<font color=\"Black\">Calcular la media del conjunto de datos $x_0$, $y_0$. Almacenar las medias en las variables `X` y `Y`.</font>\n",
    "\n",
    "</div>"
   ]
  },
  {
   "cell_type": "code",
   "execution_count": 16,
   "id": "665497ce-561e-47a4-9a4d-78c8922d186b",
   "metadata": {
    "nbgrader": {
     "grade": false,
     "grade_id": "cell-e7cdb85676fe1903",
     "locked": false,
     "schema_version": 3,
     "solution": true,
     "task": false
    }
   },
   "outputs": [
    {
     "name": "stdout",
     "output_type": "stream",
     "text": [
      "Media de x: 5.0\n",
      "Media de y: 5.281118544626195\n"
     ]
    }
   ],
   "source": [
    "### BEGIN SOLUTION\n",
    "\n",
    "# Media de x\n",
    "X = 0.0\n",
    "for xi in x0:\n",
    "    X += xi\n",
    "X /= N\n",
    "\n",
    "# Media de y\n",
    "Y = 0.0\n",
    "for yi in y0:\n",
    "    Y += yi\n",
    "Y /= N\n",
    "\n",
    "# END SOLUTION\n",
    "\n",
    "print('Media de x: {}'.format(X))\n",
    "print('Media de y: {}'.format(Y))"
   ]
  },
  {
   "cell_type": "code",
   "execution_count": null,
   "id": "b5e7f304-654b-407c-ba96-a2d9c8ba0376",
   "metadata": {
    "nbgrader": {
     "grade": true,
     "grade_id": "cell-e9969766cc37cd95",
     "locked": true,
     "points": 2,
     "schema_version": 3,
     "solution": false,
     "task": false
    }
   },
   "outputs": [],
   "source": [
    "quizz.eval_numeric('1', X)\n",
    "quizz.eval_numeric('2', Y)"
   ]
  },
  {
   "cell_type": "markdown",
   "id": "73c08068-61e9-43f2-85df-798684a325df",
   "metadata": {
    "nbgrader": {
     "grade": false,
     "grade_id": "cell-b808fe296b0d05f1",
     "locked": true,
     "schema_version": 3,
     "solution": false,
     "task": false
    }
   },
   "source": [
    "<div class=\"alert alert-success\">\n",
    "\n",
    "## **Ejercicio 2.**\n",
    "\n",
    "<font color=\"Black\">Calcular la pendiente $m$ del conjunto de datos $x_0$, $y_0$ usando la fórmula $(1)$. Almacenar la pendiente en la variable `m`.</font>\n",
    "\n",
    "</div>"
   ]
  },
  {
   "cell_type": "code",
   "execution_count": 22,
   "id": "ceb07bc1-1fd2-4aa8-85be-69cfdf8750bc",
   "metadata": {
    "nbgrader": {
     "grade": false,
     "grade_id": "cell-0875f3113c5f37e1",
     "locked": false,
     "schema_version": 3,
     "solution": true,
     "task": false
    }
   },
   "outputs": [
    {
     "name": "stdout",
     "output_type": "stream",
     "text": [
      "Pendiente m: 0.717675501401963\n"
     ]
    }
   ],
   "source": [
    "### BEGIN SOLUTION\n",
    "# Cálculo de m\n",
    "Sxx = 0\n",
    "Sxy = 0\n",
    "for xi, yi in zip(x0, y0):\n",
    "    Sxy += xi * (yi - Y)\n",
    "    Sxx += xi * (xi - X)\n",
    "m = Sxy / Sxx\n",
    "\n",
    "# END SOLUTION\n",
    "\n",
    "print('Pendiente m: {}'.format(m))"
   ]
  },
  {
   "cell_type": "code",
   "execution_count": 20,
   "id": "f04444cb-9f67-4717-ae3f-432403a37561",
   "metadata": {},
   "outputs": [
    {
     "name": "stdout",
     "output_type": "stream",
     "text": [
      "5.281118544626196\n"
     ]
    }
   ],
   "source": [
    "print(np.mean(y0))"
   ]
  },
  {
   "cell_type": "code",
   "execution_count": null,
   "id": "2c5afb5c-1f20-4d52-9931-8502bd4d9db8",
   "metadata": {
    "nbgrader": {
     "grade": true,
     "grade_id": "cell-3ab758080d0e4642",
     "locked": true,
     "points": 1,
     "schema_version": 3,
     "solution": false,
     "task": false
    }
   },
   "outputs": [],
   "source": [
    "quizz.eval_numeric('3', m)"
   ]
  },
  {
   "cell_type": "markdown",
   "id": "010ce3a3-60ab-45f9-8cfe-309dab1d8c30",
   "metadata": {
    "nbgrader": {
     "grade": false,
     "grade_id": "cell-0dc3dd4202f600e1",
     "locked": true,
     "schema_version": 3,
     "solution": false,
     "task": false
    }
   },
   "source": [
    "<div class=\"alert alert-success\">\n",
    "\n",
    "## **Ejercicio 3.**\n",
    "\n",
    "<font color=\"Black\">Calcular la ordenada al origen $b$ del conjunto de datos $x_0$, $y_0$ usando la fórmula $(2)$. Almacenar la pendiente en la variable `b`.</font>\n",
    "\n",
    "</div>"
   ]
  },
  {
   "cell_type": "code",
   "execution_count": 23,
   "id": "be93def7-5983-42ee-954d-5f4ce6107024",
   "metadata": {
    "nbgrader": {
     "grade": false,
     "grade_id": "cell-f36117aea568bb47",
     "locked": false,
     "schema_version": 3,
     "solution": true,
     "task": false
    }
   },
   "outputs": [
    {
     "name": "stdout",
     "output_type": "stream",
     "text": [
      "Ordenada al origen b: 1.69274103761638\n"
     ]
    }
   ],
   "source": [
    "# Cálculo de b\n",
    "# b = ...\n",
    "### BEGIN SOLUTION\n",
    "# Cálculo de b\n",
    "b = Y - m * X\n",
    "\n",
    "### END SOLUTION\n",
    "\n",
    "print('Ordenada al origen b: {}'.format(b))"
   ]
  },
  {
   "cell_type": "code",
   "execution_count": null,
   "id": "7c2e331e-26a2-41e7-8133-f8f61b16d10b",
   "metadata": {
    "nbgrader": {
     "grade": true,
     "grade_id": "cell-538d7265e1bf6a3d",
     "locked": true,
     "points": 1,
     "schema_version": 3,
     "solution": false,
     "task": false
    }
   },
   "outputs": [],
   "source": [
    "quizz.eval_numeric('4', b)"
   ]
  },
  {
   "cell_type": "markdown",
   "id": "de743742-33eb-43e3-88c5-4ddf95b45e97",
   "metadata": {
    "nbgrader": {
     "grade": false,
     "grade_id": "cell-2ea63d107a90dbd8",
     "locked": true,
     "schema_version": 3,
     "solution": false,
     "task": false
    }
   },
   "source": [
    "<div class=\"alert alert-success\">\n",
    "\n",
    "## **Ejercicio 4.**\n",
    "\n",
    "<font color=\"Black\">\n",
    "\n",
    "Construir una recta usando los valores de $m$ y $b$ calculados en los ejercicios anteriores como sigue:\n",
    "* Construir un arreglo para $x$, de nombre `xr0`, usando alguna función de `numpy` (**el arreglo debe ser de 10 elementos**):\n",
    "```python\n",
    "xr0 = np. ...\n",
    "```\n",
    "* Evaluar $y = mx + b$ usando el arreglo `xr0` para generar el arreglo `yr0`:\n",
    "```python\n",
    "yr0 = ...\n",
    "```\n",
    "</div>"
   ]
  },
  {
   "cell_type": "code",
   "execution_count": 24,
   "id": "de9cbf5d-149d-47b3-b09a-ff6ee72d6b96",
   "metadata": {
    "nbgrader": {
     "grade": false,
     "grade_id": "cell-0b8cbe2dc6c3c0aa",
     "locked": false,
     "schema_version": 3,
     "solution": true,
     "task": false
    }
   },
   "outputs": [
    {
     "name": "stdout",
     "output_type": "stream",
     "text": [
      "[ 0.          1.11111111  2.22222222  3.33333333  4.44444444  5.55555556\n",
      "  6.66666667  7.77777778  8.88888889 10.        ]\n",
      "[1.69274104 2.49015826 3.28757549 4.08499271 4.88240993 5.67982716\n",
      " 6.47724438 7.2746616  8.07207883 8.86949605]\n"
     ]
    }
   ],
   "source": [
    "# Construcción de las rectas\n",
    "# xr0 = np....\n",
    "# yr0 = ...\n",
    "\n",
    "### BEGIN SOLUTION\n",
    "# Construcción de la recta\n",
    "xr0 = np.linspace(x0.min(), x0.max(), 10)\n",
    "yr0 = m * xr0 + b\n",
    "\n",
    "### END SOLUTION\n",
    "\n",
    "print(xr0)\n",
    "print(yr0)"
   ]
  },
  {
   "cell_type": "code",
   "execution_count": null,
   "id": "b85acecf-36b9-4cf1-b12e-6dd363808c34",
   "metadata": {
    "nbgrader": {
     "grade": true,
     "grade_id": "cell-79f4f332e2228dba",
     "locked": true,
     "points": 2,
     "schema_version": 3,
     "solution": false,
     "task": false
    }
   },
   "outputs": [],
   "source": [
    "quizz.eval_numeric('5', xr0)\n",
    "quizz.eval_numeric('6', yr0)"
   ]
  },
  {
   "cell_type": "markdown",
   "id": "b308b632-667f-4893-a246-fb7a873132f6",
   "metadata": {
    "nbgrader": {
     "grade": false,
     "grade_id": "cell-8765d8366a8eb8b5",
     "locked": true,
     "schema_version": 3,
     "solution": false,
     "task": false
    }
   },
   "source": [
    "<div class=\"alert alert-info\">\n",
    "\n",
    "Si realizaste correctamente los ejercicios $1-4$, entonces la siguiente celda de código graficará los cuatro conjuntos de datos y en la primera gráfica se verá la línea recta que construiste.\n",
    "\n",
    "**NOTA**. En esta graficación estamos usando la biblioteca `macti.visual`.\n",
    "\n",
    "</div>"
   ]
  },
  {
   "cell_type": "code",
   "execution_count": 25,
   "id": "02c9e216-e537-41e7-972b-c051b19f2442",
   "metadata": {},
   "outputs": [
    {
     "ename": "ModuleNotFoundError",
     "evalue": "No module named 'macti.visual'",
     "output_type": "error",
     "traceback": [
      "\u001b[0;31m---------------------------------------------------------------------------\u001b[0m",
      "\u001b[0;31mModuleNotFoundError\u001b[0m                       Traceback (most recent call last)",
      "Cell \u001b[0;32mIn[25], line 1\u001b[0m\n\u001b[0;32m----> 1\u001b[0m \u001b[38;5;28;01mimport\u001b[39;00m \u001b[38;5;21;01mmacti\u001b[39;00m\u001b[38;5;21;01m.\u001b[39;00m\u001b[38;5;21;01mvisual\u001b[39;00m \u001b[38;5;28;01mas\u001b[39;00m \u001b[38;5;21;01mmvis\u001b[39;00m\n\u001b[1;32m      3\u001b[0m axp \u001b[38;5;241m=\u001b[39m [\u001b[38;5;28mdict\u001b[39m(xlabel\u001b[38;5;241m=\u001b[39m\u001b[38;5;124m'\u001b[39m\u001b[38;5;124m$x_0$\u001b[39m\u001b[38;5;124m'\u001b[39m, ylabel\u001b[38;5;241m=\u001b[39m\u001b[38;5;124m'\u001b[39m\u001b[38;5;124m$y_0$\u001b[39m\u001b[38;5;124m'\u001b[39m),\n\u001b[1;32m      4\u001b[0m         \u001b[38;5;28mdict\u001b[39m(xlabel\u001b[38;5;241m=\u001b[39m\u001b[38;5;124m'\u001b[39m\u001b[38;5;124m$x_1$\u001b[39m\u001b[38;5;124m'\u001b[39m, ylabel\u001b[38;5;241m=\u001b[39m\u001b[38;5;124m'\u001b[39m\u001b[38;5;124m$y_1$\u001b[39m\u001b[38;5;124m'\u001b[39m),\n\u001b[1;32m      5\u001b[0m         \u001b[38;5;28mdict\u001b[39m(xlabel\u001b[38;5;241m=\u001b[39m\u001b[38;5;124m'\u001b[39m\u001b[38;5;124m$x_2$\u001b[39m\u001b[38;5;124m'\u001b[39m, ylabel\u001b[38;5;241m=\u001b[39m\u001b[38;5;124m'\u001b[39m\u001b[38;5;124m$y_2$\u001b[39m\u001b[38;5;124m'\u001b[39m),\n\u001b[1;32m      6\u001b[0m         \u001b[38;5;28mdict\u001b[39m(xlabel\u001b[38;5;241m=\u001b[39m\u001b[38;5;124m'\u001b[39m\u001b[38;5;124m$x_3$\u001b[39m\u001b[38;5;124m'\u001b[39m, ylabel\u001b[38;5;241m=\u001b[39m\u001b[38;5;124m'\u001b[39m\u001b[38;5;124m$y_3$\u001b[39m\u001b[38;5;124m'\u001b[39m, ylim\u001b[38;5;241m=\u001b[39m(\u001b[38;5;241m-\u001b[39m\u001b[38;5;241m5\u001b[39m,\u001b[38;5;241m5\u001b[39m)),]\n\u001b[1;32m      8\u001b[0m vis \u001b[38;5;241m=\u001b[39m mvis\u001b[38;5;241m.\u001b[39mPlotter(\u001b[38;5;241m2\u001b[39m,\u001b[38;5;241m2\u001b[39m,fig_par\u001b[38;5;241m=\u001b[39m\u001b[38;5;28mdict\u001b[39m(figsize\u001b[38;5;241m=\u001b[39m(\u001b[38;5;241m10\u001b[39m,\u001b[38;5;241m5\u001b[39m)), axis_par\u001b[38;5;241m=\u001b[39maxp)\n",
      "\u001b[0;31mModuleNotFoundError\u001b[0m: No module named 'macti.visual'"
     ]
    }
   ],
   "source": [
    "import macti.visual as mvis\n",
    "\n",
    "axp = [dict(xlabel='$x_0$', ylabel='$y_0$'),\n",
    "        dict(xlabel='$x_1$', ylabel='$y_1$'),\n",
    "        dict(xlabel='$x_2$', ylabel='$y_2$'),\n",
    "        dict(xlabel='$x_3$', ylabel='$y_3$', ylim=(-5,5)),]\n",
    "\n",
    "vis = mvis.Plotter(2,2,fig_par=dict(figsize=(10,5)), axis_par=axp)\n",
    "\n",
    "vis.plot(1, xr0, yr0, c='C0', lw=2, ls = '--')\n",
    "vis.scatter(1, x0, y0, fc='C0', ec='k', alpha=0.75, zorder=5)\n",
    "\n",
    "vis.scatter(2, x1, y1, fc='C1', ec='k', alpha=0.75)\n",
    "\n",
    "vis.scatter(3, x2, y2, fc='C2', ec='k', alpha=0.75)\n",
    "\n",
    "vis.scatter(4, x3, y3, fc='C3', ec='dimgrey', alpha=0.75)\n",
    "\n",
    "vis.tight_layout()\n",
    "vis.grid()\n",
    "vis.show()"
   ]
  },
  {
   "cell_type": "markdown",
   "id": "c5b94ff2-1e77-4603-bfcb-d9b6f89b9021",
   "metadata": {
    "nbgrader": {
     "grade": false,
     "grade_id": "cell-b149a73a543bdc99",
     "locked": true,
     "schema_version": 3,
     "solution": false,
     "task": false
    }
   },
   "source": [
    "<div class=\"alert alert-success\">\n",
    "\n",
    "## **Ejercicio 5.**\n",
    "\n",
    "<font color=\"Black\">Construir la función `media(x)` para calcular la media de un conjunto de datos. La función debe recibir como entrada el arreglo con los datos, `x`, y regresa la media de los mismos. Probar la función para los datos `x0` y `y0` como sigue:\n",
    "```python\n",
    "X0 = media(x0)\n",
    "Y0 = media(y0)\n",
    "```\n",
    "</font>\n",
    "\n",
    "</div>"
   ]
  },
  {
   "cell_type": "code",
   "execution_count": 26,
   "id": "ad67510e-bf63-4ca0-9c7a-361094518dab",
   "metadata": {
    "nbgrader": {
     "grade": false,
     "grade_id": "cell-522a1d9030797ea3",
     "locked": false,
     "schema_version": 3,
     "solution": true,
     "task": false
    }
   },
   "outputs": [
    {
     "name": "stdout",
     "output_type": "stream",
     "text": [
      "Media de x0 : 5.0\n",
      "Media de y0 : 5.281118544626195\n"
     ]
    }
   ],
   "source": [
    "# Función media()\n",
    "# def media (x) : \n",
    "# ...\n",
    "\n",
    "### BEGIN SOLUTION\n",
    "def media(x):\n",
    "    xm = 0.0\n",
    "    for xi in x:\n",
    "        xm += xi\n",
    "    return xm / N\n",
    "\n",
    "X0 = media(x0)\n",
    "Y0 = media(y0)\n",
    "\n",
    "### END SOLUTION\n",
    "\n",
    "print('Media de x0 : {}'.format(X0))\n",
    "print('Media de y0 : {}'.format(Y0))"
   ]
  },
  {
   "cell_type": "code",
   "execution_count": null,
   "id": "4335d757-1837-47b1-b8f4-0afb4f683445",
   "metadata": {
    "nbgrader": {
     "grade": true,
     "grade_id": "cell-c831cac7e0b51e1d",
     "locked": true,
     "points": 2,
     "schema_version": 3,
     "solution": false,
     "task": false
    }
   },
   "outputs": [],
   "source": [
    "quizz.eval_numeric('7', X0)\n",
    "quizz.eval_numeric('8', Y0)"
   ]
  },
  {
   "cell_type": "markdown",
   "id": "3d42e623-7d67-43a2-94c1-606de545a9be",
   "metadata": {
    "nbgrader": {
     "grade": false,
     "grade_id": "cell-6ddcaf62fd9da01c",
     "locked": true,
     "schema_version": 3,
     "solution": false,
     "task": false
    }
   },
   "source": [
    "<div class=\"alert alert-success\">\n",
    "\n",
    "## **Ejercicio 6.**\n",
    "\n",
    "<font color=\"Black\">\n",
    "    \n",
    "Construir la función `mincua(x, y)` para calcular $m$ y $b$ de un conjunto de datos. La función recibe como entrada los arreglos de datos, `x, y`, y regresa `m` y `b`. Calcular `m` y `b` para los conjuntos de datos: \n",
    "\n",
    "* ($x_1$, $y_1$), almacenar $m$ y $b$ en las variables `m1` y `b1` respectivamente.\n",
    "* ($x_2$, $y_2$), almacenar $m$ y $b$ en las variables `m2` y `b2` respectivamente.\n",
    "* ($x_3$, $y_3$), almacenar $m$ y $b$ en las variables `m3` y `b3` respectivamente.\n",
    "\n",
    "</font>\n",
    "\n",
    "</div>"
   ]
  },
  {
   "cell_type": "code",
   "execution_count": 27,
   "id": "ea10d448-c931-4ede-b5a3-1af53964690a",
   "metadata": {
    "nbgrader": {
     "grade": false,
     "grade_id": "cell-1dee2467692804a5",
     "locked": false,
     "schema_version": 3,
     "solution": true,
     "task": false
    }
   },
   "outputs": [],
   "source": [
    "# Función mincua()\n",
    "# def mincua (x) : \n",
    "# ...\n",
    "# \n",
    "\n",
    "### BEGIN SOLUTION\n",
    "def mincua(x, y):\n",
    "    # Cálculo de la media\n",
    "    X = media(x)\n",
    "    Y = media(y)\n",
    "    \n",
    "    # Cálculo de m\n",
    "    Sxx = 0\n",
    "    Sxy = 0\n",
    "    for xi, yi in zip(x, y):\n",
    "        Sxy += xi * (yi - Y)\n",
    "        Sxx += xi * (xi - X)\n",
    "    m = Sxy / Sxx\n",
    "\n",
    "    # Cálculo de b\n",
    "    b = Y - m * X\n",
    "\n",
    "    return m, b\n",
    "### END SOLUTION"
   ]
  },
  {
   "cell_type": "code",
   "execution_count": 28,
   "id": "ff6c6969-47dc-40f3-8edc-63c1a02c5df3",
   "metadata": {
    "nbgrader": {
     "grade": false,
     "grade_id": "cell-ae36fbb5eb4a9635",
     "locked": false,
     "schema_version": 3,
     "solution": true,
     "task": false
    }
   },
   "outputs": [
    {
     "name": "stdout",
     "output_type": "stream",
     "text": [
      "m1 = -0.18713553715587772, \t b1 = 2.5261561544882793\n",
      "m2 = -0.9756402302290489, \t b2 = -105.93588526540952\n",
      "m3 = -0.0014082551044908489, \t b3 = -0.20623119156971784\n"
     ]
    }
   ],
   "source": [
    "# Cálculo de m y b\n",
    "# m1, b1 = ...\n",
    "# ...\n",
    "\n",
    "### BEGIN SOLUTION\n",
    "m1, b1 = mincua(x1, y1)\n",
    "m2, b2 = mincua(x2, y2)\n",
    "m3, b3 = mincua(x3, y3)\n",
    "\n",
    "### END SOLUTION\n",
    "\n",
    "print('m1 = {}, \\t b1 = {}'.format(m1, b1))\n",
    "print('m2 = {}, \\t b2 = {}'.format(m2, b2))\n",
    "print('m3 = {}, \\t b3 = {}'.format(m3, b3))"
   ]
  },
  {
   "cell_type": "code",
   "execution_count": 29,
   "id": "6c2a3e05-4131-40d2-9967-b530d9ea896f",
   "metadata": {
    "nbgrader": {
     "grade": true,
     "grade_id": "cell-d24844b2379c4dc2",
     "locked": true,
     "points": 3,
     "schema_version": 3,
     "solution": false,
     "task": false
    }
   },
   "outputs": [
    {
     "ename": "NameError",
     "evalue": "name 'quizz' is not defined",
     "output_type": "error",
     "traceback": [
      "\u001b[0;31m---------------------------------------------------------------------------\u001b[0m",
      "\u001b[0;31mNameError\u001b[0m                                 Traceback (most recent call last)",
      "Cell \u001b[0;32mIn[29], line 1\u001b[0m\n\u001b[0;32m----> 1\u001b[0m \u001b[43mquizz\u001b[49m\u001b[38;5;241m.\u001b[39meval_numeric(\u001b[38;5;124m'\u001b[39m\u001b[38;5;124m9\u001b[39m\u001b[38;5;124m'\u001b[39m, [m1, b1])\n\u001b[1;32m      2\u001b[0m quizz\u001b[38;5;241m.\u001b[39meval_numeric(\u001b[38;5;124m'\u001b[39m\u001b[38;5;124m10\u001b[39m\u001b[38;5;124m'\u001b[39m, [m2, b2])\n\u001b[1;32m      3\u001b[0m quizz\u001b[38;5;241m.\u001b[39meval_numeric(\u001b[38;5;124m'\u001b[39m\u001b[38;5;124m11\u001b[39m\u001b[38;5;124m'\u001b[39m, [m3, b3])\n",
      "\u001b[0;31mNameError\u001b[0m: name 'quizz' is not defined"
     ]
    }
   ],
   "source": [
    "quizz.eval_numeric('9', [m1, b1])\n",
    "quizz.eval_numeric('10', [m2, b2])\n",
    "quizz.eval_numeric('11', [m3, b3])"
   ]
  },
  {
   "cell_type": "markdown",
   "id": "76385121-d35b-4228-b1f2-ea904e47d026",
   "metadata": {
    "nbgrader": {
     "grade": false,
     "grade_id": "cell-fd39ca5ea424df0e",
     "locked": true,
     "schema_version": 3,
     "solution": false,
     "task": false
    }
   },
   "source": [
    "<div class=\"alert alert-success\">\n",
    "\n",
    "## **Ejercicio 7.**\n",
    "\n",
    "<font color=\"Black\">\n",
    "    \n",
    "Construir las rectas de cada conjunto de datos como sigue:\n",
    "\n",
    "* Usando `m1` y `b1` construir los arreglos de coordenadas `xr1` y `yr1`.\n",
    "* Usando `m2` y `b2` construir los arreglos de coordenadas `xr2` y `yr2`.\n",
    "* Usando `m3` y `b3` construir los arreglos de coordenadas `xr3` y `yr3`.\n",
    "\n",
    "</font>\n",
    "\n",
    "</div>"
   ]
  },
  {
   "cell_type": "code",
   "execution_count": 31,
   "id": "ae9be953-7c3c-4fd0-b78d-1b2f9a38fc4c",
   "metadata": {
    "nbgrader": {
     "grade": false,
     "grade_id": "cell-f3e79d8be4b8a1b5",
     "locked": false,
     "schema_version": 3,
     "solution": true,
     "task": false
    }
   },
   "outputs": [],
   "source": [
    "# Construcción de las rectas\n",
    "# xr1 = np.linspace( ... )\n",
    "# yr1 = ...\n",
    "# ...\n",
    "### BEGIN SOLUTION\n",
    "# Construcción de las rectas\n",
    "xr1 = np.linspace(x1.min(), x1.max(), 10)\n",
    "yr1 = m1 * xr1 + b1\n",
    "\n",
    "xr2 = np.linspace(x2.min(), x2.max(), 10)\n",
    "yr2 = m2 * xr2 + b2\n",
    "\n",
    "xr3 = np.linspace(x3.min(), x3.max(), 10)\n",
    "yr3 = m3 * xr3 + b3\n",
    "\n",
    "### END SOLUTION"
   ]
  },
  {
   "cell_type": "code",
   "execution_count": 32,
   "id": "960be302-6053-4d1f-840e-aa6a1071aaa6",
   "metadata": {
    "nbgrader": {
     "grade": false,
     "grade_id": "cell-4bb484f4f3550a98",
     "locked": true,
     "schema_version": 3,
     "solution": false,
     "task": false
    }
   },
   "outputs": [
    {
     "name": "stdout",
     "output_type": "stream",
     "text": [
      "[-17.26282602 -13.23819071  -9.2135554   -5.1889201   -1.16428479\n",
      "   2.86035052   6.88498583  10.90962114  14.93425645  18.95889176]\n",
      "[ 5.75664438  5.00349208  4.25033979  3.4971875   2.74403521  1.99088292\n",
      "  1.23773063  0.48457834 -0.26857395 -1.02172624]\n",
      "\n",
      "[   0.          544.44444444 1088.88888889 1633.33333333 2177.77777778\n",
      " 2722.22222222 3266.66666667 3811.11111111 4355.55555556 4900.        ]\n",
      "[ -105.93588527  -637.11778839 -1168.29969151 -1699.48159464\n",
      " -2230.66349776 -2761.84540089 -3293.02730401 -3824.20920714\n",
      " -4355.39111026 -4886.57301339]\n",
      "\n",
      "[ 0.          5.44444444 10.88888889 16.33333333 21.77777778 27.22222222\n",
      " 32.66666667 38.11111111 43.55555556 49.        ]\n",
      "[-0.20623119 -0.21389836 -0.22156552 -0.22923269 -0.23689986 -0.24456702\n",
      " -0.25223419 -0.25990136 -0.26756853 -0.27523569]\n",
      "\n"
     ]
    }
   ],
   "source": [
    "print(xr1, yr1, sep = '\\n', end='\\n\\n')\n",
    "print(xr2, yr2, sep = '\\n', end='\\n\\n')\n",
    "print(xr3, yr3, sep = '\\n', end='\\n\\n')"
   ]
  },
  {
   "cell_type": "code",
   "execution_count": 33,
   "id": "e86c5bf6-7b91-4370-aed4-db1a4a7f2251",
   "metadata": {
    "nbgrader": {
     "grade": true,
     "grade_id": "cell-4bb618980bf8eb33",
     "locked": true,
     "points": 6,
     "schema_version": 3,
     "solution": false,
     "task": false
    }
   },
   "outputs": [
    {
     "ename": "NameError",
     "evalue": "name 'quizz' is not defined",
     "output_type": "error",
     "traceback": [
      "\u001b[0;31m---------------------------------------------------------------------------\u001b[0m",
      "\u001b[0;31mNameError\u001b[0m                                 Traceback (most recent call last)",
      "Cell \u001b[0;32mIn[33], line 1\u001b[0m\n\u001b[0;32m----> 1\u001b[0m \u001b[43mquizz\u001b[49m\u001b[38;5;241m.\u001b[39meval_numeric(\u001b[38;5;124m'\u001b[39m\u001b[38;5;124m12\u001b[39m\u001b[38;5;124m'\u001b[39m, xr1)\n\u001b[1;32m      2\u001b[0m quizz\u001b[38;5;241m.\u001b[39meval_numeric(\u001b[38;5;124m'\u001b[39m\u001b[38;5;124m13\u001b[39m\u001b[38;5;124m'\u001b[39m, yr1)\n\u001b[1;32m      3\u001b[0m quizz\u001b[38;5;241m.\u001b[39meval_numeric(\u001b[38;5;124m'\u001b[39m\u001b[38;5;124m14\u001b[39m\u001b[38;5;124m'\u001b[39m, xr2)\n",
      "\u001b[0;31mNameError\u001b[0m: name 'quizz' is not defined"
     ]
    }
   ],
   "source": [
    "quizz.eval_numeric('12', xr1)\n",
    "quizz.eval_numeric('13', yr1)\n",
    "quizz.eval_numeric('14', xr2)\n",
    "quizz.eval_numeric('15', yr2)\n",
    "quizz.eval_numeric('16', xr3)\n",
    "quizz.eval_numeric('17', yr3)"
   ]
  },
  {
   "cell_type": "markdown",
   "id": "e3d18d3f-c873-4a32-acf7-109104332c43",
   "metadata": {
    "nbgrader": {
     "grade": false,
     "grade_id": "cell-7250464dc0a3f89a",
     "locked": true,
     "schema_version": 3,
     "solution": false,
     "task": false
    }
   },
   "source": [
    "<div class=\"alert alert-info\">\n",
    "\n",
    "Si caculaste todo correctamente, entonces la siguiente celda de código graficará los cuatro conjuntos de datos junto con las líneas rectas que construiste.\n",
    "\n",
    "</div>"
   ]
  },
  {
   "cell_type": "code",
   "execution_count": 34,
   "id": "eb62233a-8152-406d-bbaa-3e9c517d30c2",
   "metadata": {},
   "outputs": [
    {
     "ename": "NameError",
     "evalue": "name 'mvis' is not defined",
     "output_type": "error",
     "traceback": [
      "\u001b[0;31m---------------------------------------------------------------------------\u001b[0m",
      "\u001b[0;31mNameError\u001b[0m                                 Traceback (most recent call last)",
      "Cell \u001b[0;32mIn[34], line 6\u001b[0m\n\u001b[1;32m      1\u001b[0m axp \u001b[38;5;241m=\u001b[39m [\u001b[38;5;28mdict\u001b[39m(xlabel\u001b[38;5;241m=\u001b[39m\u001b[38;5;124m'\u001b[39m\u001b[38;5;124m$x_0$\u001b[39m\u001b[38;5;124m'\u001b[39m, ylabel\u001b[38;5;241m=\u001b[39m\u001b[38;5;124m'\u001b[39m\u001b[38;5;124m$y_0$\u001b[39m\u001b[38;5;124m'\u001b[39m),\n\u001b[1;32m      2\u001b[0m         \u001b[38;5;28mdict\u001b[39m(xlabel\u001b[38;5;241m=\u001b[39m\u001b[38;5;124m'\u001b[39m\u001b[38;5;124m$x_1$\u001b[39m\u001b[38;5;124m'\u001b[39m, ylabel\u001b[38;5;241m=\u001b[39m\u001b[38;5;124m'\u001b[39m\u001b[38;5;124m$y_1$\u001b[39m\u001b[38;5;124m'\u001b[39m),\n\u001b[1;32m      3\u001b[0m         \u001b[38;5;28mdict\u001b[39m(xlabel\u001b[38;5;241m=\u001b[39m\u001b[38;5;124m'\u001b[39m\u001b[38;5;124m$x_2$\u001b[39m\u001b[38;5;124m'\u001b[39m, ylabel\u001b[38;5;241m=\u001b[39m\u001b[38;5;124m'\u001b[39m\u001b[38;5;124m$y_2$\u001b[39m\u001b[38;5;124m'\u001b[39m),\n\u001b[1;32m      4\u001b[0m         \u001b[38;5;28mdict\u001b[39m(xlabel\u001b[38;5;241m=\u001b[39m\u001b[38;5;124m'\u001b[39m\u001b[38;5;124m$x_3$\u001b[39m\u001b[38;5;124m'\u001b[39m, ylabel\u001b[38;5;241m=\u001b[39m\u001b[38;5;124m'\u001b[39m\u001b[38;5;124m$y_3$\u001b[39m\u001b[38;5;124m'\u001b[39m, ylim\u001b[38;5;241m=\u001b[39m(\u001b[38;5;241m-\u001b[39m\u001b[38;5;241m5\u001b[39m,\u001b[38;5;241m5\u001b[39m)),]\n\u001b[0;32m----> 6\u001b[0m vis \u001b[38;5;241m=\u001b[39m \u001b[43mmvis\u001b[49m\u001b[38;5;241m.\u001b[39mPlotter(\u001b[38;5;241m2\u001b[39m,\u001b[38;5;241m2\u001b[39m,fig_par\u001b[38;5;241m=\u001b[39m\u001b[38;5;28mdict\u001b[39m(figsize\u001b[38;5;241m=\u001b[39m(\u001b[38;5;241m10\u001b[39m,\u001b[38;5;241m5\u001b[39m)), axis_par\u001b[38;5;241m=\u001b[39maxp)\n\u001b[1;32m      8\u001b[0m vis\u001b[38;5;241m.\u001b[39mplot(\u001b[38;5;241m1\u001b[39m, xr0, yr0, c\u001b[38;5;241m=\u001b[39m\u001b[38;5;124m'\u001b[39m\u001b[38;5;124mC0\u001b[39m\u001b[38;5;124m'\u001b[39m, lw\u001b[38;5;241m=\u001b[39m\u001b[38;5;241m2\u001b[39m, ls \u001b[38;5;241m=\u001b[39m \u001b[38;5;124m'\u001b[39m\u001b[38;5;124m--\u001b[39m\u001b[38;5;124m'\u001b[39m)\n\u001b[1;32m      9\u001b[0m vis\u001b[38;5;241m.\u001b[39mscatter(\u001b[38;5;241m1\u001b[39m, x0, y0, fc\u001b[38;5;241m=\u001b[39m\u001b[38;5;124m'\u001b[39m\u001b[38;5;124mC0\u001b[39m\u001b[38;5;124m'\u001b[39m, ec\u001b[38;5;241m=\u001b[39m\u001b[38;5;124m'\u001b[39m\u001b[38;5;124mk\u001b[39m\u001b[38;5;124m'\u001b[39m, alpha\u001b[38;5;241m=\u001b[39m\u001b[38;5;241m0.75\u001b[39m)\n",
      "\u001b[0;31mNameError\u001b[0m: name 'mvis' is not defined"
     ]
    }
   ],
   "source": [
    "axp = [dict(xlabel='$x_0$', ylabel='$y_0$'),\n",
    "        dict(xlabel='$x_1$', ylabel='$y_1$'),\n",
    "        dict(xlabel='$x_2$', ylabel='$y_2$'),\n",
    "        dict(xlabel='$x_3$', ylabel='$y_3$', ylim=(-5,5)),]\n",
    "\n",
    "vis = mvis.Plotter(2,2,fig_par=dict(figsize=(10,5)), axis_par=axp)\n",
    "\n",
    "vis.plot(1, xr0, yr0, c='C0', lw=2, ls = '--')\n",
    "vis.scatter(1, x0, y0, fc='C0', ec='k', alpha=0.75)\n",
    "\n",
    "vis.plot(2, xr1, yr1, c='C1', lw=2, ls = '--')\n",
    "vis.scatter(2, x1, y1, fc='C1', ec='k', alpha=0.75)\n",
    "\n",
    "vis.plot(3, xr2, yr2, c='C2', lw=2, ls = '--')\n",
    "vis.scatter(3, x2, y2, fc='C2', ec='k', alpha=0.75)\n",
    "\n",
    "vis.plot(4, xr3, yr3, c='C3', lw=2, ls = '--')\n",
    "vis.scatter(4, x3, y3, fc='C3', ec='dimgrey', alpha=0.75)\n",
    "\n",
    "vis.tight_layout()\n",
    "vis.grid()\n",
    "vis.show()"
   ]
  },
  {
   "cell_type": "markdown",
   "id": "cb83f02f-c69b-4087-92e4-38a3072c7c28",
   "metadata": {
    "nbgrader": {
     "grade": false,
     "grade_id": "cell-cb37860db092d422",
     "locked": true,
     "schema_version": 3,
     "solution": false,
     "task": false
    }
   },
   "source": [
    "# Apéndice A: Deducción del método.\n",
    "\n",
    "Dado el conjunto de datos:\n",
    "\n",
    "| $x_0$ | $x_1$ | $x_2$ | $\\dots$ | $x_N$ |\n",
    "|-----|-----|-----|---------|-----|\n",
    "| $y_0$ | $y_1$ | $y_2$ | $\\dots$ | $y_N$ |\n",
    "\n",
    "lo que en principio desearíamos es que se cumpliera que:\n",
    "\n",
    "$$y_i = m x_i + b \\;\\; \\text{para} \\;\\; i = 0, \\dots, N $$\n",
    "\n",
    "que es equivalente a \n",
    "\n",
    "$$0 = m x_i + b - y_i\\;\\; \\text{para} \\;\\; i = 0, \\dots, N, \\tag{A.1} $$\n",
    "\n",
    "\n",
    "Pero la ecuación $(A.1)$ no se cumple en general, de tal manera que lo que se pide es que las desviaciones de cada punto con respecto de la recta sean pequeñas. \n",
    "\n",
    "En el caso de este método, la desviación se define como la diferencia del valor $y_i$ con respecto de la recta elevada al cuadrado, es decir: $(m x_i + b - y_i)^2$. Y para calcular la desviación global se suman todas las diferencias, por lo que obtenemos:\n",
    "\n",
    "$$\n",
    "f(m,b) = \\sum_{i=1}^{N} (m x_i + b - y_i)^2\n",
    "$$\n",
    "\n",
    "Observa que del lado derecho hemos puesto $f(m,b)$ es decir, una función que depende de la pendiente $m$ y de la ordenada al origen $b$. \n",
    "\n",
    "El valor de la función $f$ (la desviación global) depende de $m$ y $b$; entonces para encontrar los valores de $m$ y $b$ más adecuados, debemos minimizar $f$ con respecto a esas variables.\n",
    "\n",
    "Recordando nuestras clases de cálculo, sabemos que para minimizar una función, debemos calcular su derivada, igualarla a cero y resolver para encontrar los puntos críticos (máximos y mínimos). En este caso, debemos derivar con respecto a $m$ y con respecto a $b$, y luego resolver un sistema de dos ecuaciones. Veamos como:\n",
    "\n",
    "$$\n",
    "\\begin{eqnarray}\n",
    "\\dfrac{\\partial f}{\\partial m} & = & \\dfrac{\\partial}{\\partial m} \\left(\\sum_{i=1}^{N} (m x_i + b - y_i)^2 \\right) = 2 \\sum_{i=1}^{N} x_i \\big(m x_i + b - y_i\\big) = 0 \\tag{A.2}\\\\\n",
    "\\dfrac{\\partial f}{\\partial b} & = & \\dfrac{\\partial}{\\partial b} \\left(\\sum_{i=1}^{N} (m x_i + b - y_i)^2 \\right) = 2\\sum_{i=1}^{N} \\big(m x_i + b - y_i\\big) = 0 \\tag{A.3}\\\\\n",
    "\\end{eqnarray}\n",
    "$$\n",
    "\n",
    "De la ecuación $(A.3)$ tenemos que:\n",
    "$$\n",
    "m \\sum_{i=1}^{N} x_i + \\sum_{i=1}^{N} b - \\sum_{i=1}^{N} y_i = 0\n",
    "$$\n",
    "\n",
    "y despejando $b$ obtenemos:\n",
    "$$\n",
    "b = \\underbrace{\\dfrac{1}{N}\\sum_{i=1}^{N} y_i}_{\\bar{y}} - m \\underbrace{\\dfrac{1}{N} \\sum_{i=1}^{N} x_i}_{\\bar{x}} = \\bar{y} - m \\bar{x} \\tag{A.4}\n",
    "$$\n",
    "\n",
    "Ahora sustituimos $(A.4)$ en $(A.2)$ y obtenemos:\n",
    "\n",
    "$$\n",
    "\\sum_{i=1}^{N} x_i \\big(m x_i + \\bar{y} - m \\bar{x} - y_i\\big) = 0\n",
    "$$\n",
    "\n",
    "Ahora despejamos $m$:\n",
    "\n",
    "$$\n",
    "m = \\dfrac{\\sum_{i=1}^{N} x_i(y_i - \\bar{y})}{\\sum_{i=1}^{N} x_i(x_i - \\bar{x})} \\tag{A.5}\n",
    "$$\n",
    "\n",
    "Las ecuaciones $(A.4)$ y $(A.5)$ proporcionan los valores de $m$ y $b$ de un punto crítico de la función $f(m,b)$. Falta demostrar que ese punto crítico es un mínimo. Para ello se deben calcular las derivadas segundas ($\\dfrac{\\partial}{\\partial^2 m}$, $\\dfrac{\\partial}{\\partial^2 b}$, $\\dfrac{\\partial}{\\partial m \\partial b}$) y ver que se cumplen los criterios necesarios."
   ]
  },
  {
   "cell_type": "markdown",
   "id": "4aac91e2-1fd8-4ade-b6f9-8a325cededa6",
   "metadata": {},
   "source": []
  },
  {
   "cell_type": "code",
   "execution_count": null,
   "id": "b451848d-095a-49c1-8480-87a08e97f783",
   "metadata": {},
   "outputs": [],
   "source": []
  }
 ],
 "metadata": {
  "kernelspec": {
   "display_name": "Python 3 (ipykernel)",
   "language": "python",
   "name": "python3"
  },
  "language_info": {
   "codemirror_mode": {
    "name": "ipython",
    "version": 3
   },
   "file_extension": ".py",
   "mimetype": "text/x-python",
   "name": "python",
   "nbconvert_exporter": "python",
   "pygments_lexer": "ipython3",
   "version": "3.11.6"
  }
 },
 "nbformat": 4,
 "nbformat_minor": 5
}
